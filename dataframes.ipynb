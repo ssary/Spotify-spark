{
 "cells": [
  {
   "cell_type": "code",
   "execution_count": null,
   "metadata": {},
   "outputs": [],
   "source": [
    "import findspark\n",
    "findspark.init()\n",
    "from pyspark.sql import SparkSession\n",
    "from pyspark.sql.functions import col"
   ]
  },
  {
   "cell_type": "code",
   "execution_count": null,
   "metadata": {},
   "outputs": [],
   "source": [
    "spark = SparkSession.builder.appName(\"Python Spark DataFrames basic example\").config(\"spark.some.config.option\", \"some-value\").getOrCreate()\n",
    "\n",
    "df = spark.read.csv(\"./music_streaming.csv\", header=True)"
   ]
  },
  {
   "cell_type": "code",
   "execution_count": null,
   "metadata": {},
   "outputs": [],
   "source": [
    "# 1. Remove duplicates (Artist Name + Track Name)\n",
    "df = df.dropDuplicates(subset=['Artist Name', 'Track Name'])"
   ]
  },
  {
   "cell_type": "code",
   "execution_count": null,
   "metadata": {},
   "outputs": [],
   "source": [
    "# 2. Missing values in each column\n",
    "df.select([col(c).isNull().alias(c) for c in df.columns]).show()"
   ]
  },
  {
   "cell_type": "code",
   "execution_count": null,
   "metadata": {},
   "outputs": [],
   "source": [
    "# Remove rows with missing values in the 'Popularity' column\n",
    "df = df.dropna(subset=['Popularity'])"
   ]
  },
  {
   "cell_type": "code",
   "execution_count": null,
   "metadata": {},
   "outputs": [],
   "source": [
    "# Drop unnecessary column 'key'\n",
    "df = df.drop('key')"
   ]
  },
  {
   "cell_type": "code",
   "execution_count": null,
   "metadata": {},
   "outputs": [],
   "source": [
    "# Impute missing values in 'instrumentalness' column with mean value per artist\n",
    "df = df.withColumn('instrumentalness', col('instrumentalness').cast('double'))\n",
    "mean_instrumentalness = df.groupBy('Artist Name').agg({'instrumentalness': 'mean'})\n",
    "df = df.join(mean_instrumentalness, on='Artist Name', how='left')\n",
    "df = df.withColumn('instrumentalness', col('instrumentalness').fillna(mean_instrumentalness['avg(instrumentalness)']))"
   ]
  },
  {
   "cell_type": "code",
   "execution_count": null,
   "metadata": {},
   "outputs": [],
   "source": [
    "# Plot boxplot of 'loudness'\n",
    "df.select('loudness').toPandas().boxplot()"
   ]
  },
  {
   "cell_type": "code",
   "execution_count": null,
   "metadata": {},
   "outputs": [],
   "source": [
    "# Remove outliers using IQR method for 'loudness'\n",
    "Q1 = df.approxQuantile('loudness', [0.25], 0.05)[0]\n",
    "Q3 = df.approxQuantile('loudness', [0.75], 0.05)[0]\n",
    "IQR = Q3 - Q1\n",
    "df = df.filter((col('loudness') >= Q1 - 1.5 * IQR) & (col('loudness') <= Q3 + 1.5 * IQR))"
   ]
  },
  {
   "cell_type": "code",
   "execution_count": null,
   "metadata": {},
   "outputs": [],
   "source": [
    "# Convert 'duration_in min/ms' to minutes if greater than 1000, assuming milliseconds\n",
    "df = df.withColumn('duration_in min/ms', col('duration_in min/ms').cast('double'))\n",
    "df = df.withColumn('duration_in min/ms', col('duration_in min/ms') / 60000).where(col('duration_in min/ms') <= 29.8)\n",
    "\n",
    "df.show()"
   ]
  },
  {
   "cell_type": "code",
   "execution_count": null,
   "metadata": {},
   "outputs": [],
   "source": [
    "# Display songs with duration greater than 5 minutes\n",
    "df_filtered = df.filter(col('duration_in min/ms') > 5)\n",
    "df_filtered.show()"
   ]
  },
  {
   "cell_type": "code",
   "execution_count": null,
   "metadata": {},
   "outputs": [],
   "source": [
    "# Display songs by J. Cole, Novo Amor, and Anson Seabra\n",
    "df_filtered.filter(col('Artist Name').isin('J. Cole', 'Novo Amor', 'Anson Seabra')).show()"
   ]
  },
  {
   "cell_type": "code",
   "execution_count": null,
   "metadata": {},
   "outputs": [],
   "source": [
    "# Count the number of songs in each genre\n",
    "df.groupBy('Genre').count().show()"
   ]
  },
  {
   "cell_type": "code",
   "execution_count": null,
   "metadata": {},
   "outputs": [],
   "source": [
    "# Count the number of songs for each artist\n",
    "df.groupBy('Artist Name').count().sort(col('count').desc()).show()"
   ]
  },
  {
   "cell_type": "code",
   "execution_count": null,
   "metadata": {},
   "outputs": [],
   "source": [
    "# Mean popularity for each artist\n",
    "df.groupBy('Artist Name').avg('Popularity').sort(col('avg(Popularity)').desc()).show()"
   ]
  },
  {
   "cell_type": "code",
   "execution_count": null,
   "metadata": {},
   "outputs": [],
   "source": [
    "# Top 10 songs based on popularity\n",
    "df.orderBy(col('Popularity').desc()).select('Track Name', 'Artist Name', 'Popularity').limit(10).show()"
   ]
  },
  {
   "cell_type": "code",
   "execution_count": null,
   "metadata": {},
   "outputs": [],
   "source": [
    "# Recommend songs for a party based on danceability, tempo, loudness, and valence\n",
    "df.orderBy(col('danceability').desc(), col('tempo').desc(), col('loudness').desc(), col('valence').desc()).select('Track Name', 'Artist Name', 'danceability', 'tempo', 'loudness', 'valence').limit(5).show()"
   ]
  }
 ],
 "metadata": {
  "kernelspec": {
   "display_name": "Python 3",
   "language": "python",
   "name": "python3"
  },
  "language_info": {
   "codemirror_mode": {
    "name": "ipython",
    "version": 3
   },
   "file_extension": ".py",
   "mimetype": "text/x-python",
   "name": "python",
   "nbconvert_exporter": "python",
   "pygments_lexer": "ipython3",
   "version": "3.11.2"
  },
  "orig_nbformat": 4
 },
 "nbformat": 4,
 "nbformat_minor": 2
}
