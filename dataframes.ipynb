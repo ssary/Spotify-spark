{
  "cells": [
    {
      "cell_type": "code",
      "execution_count": 39,
      "metadata": {
        "id": "1d5kNKO1Jsof"
      },
      "outputs": [],
      "source": [
        "import findspark\n",
        "findspark.init()\n",
        "from pyspark.sql import SparkSession\n",
        "from pyspark.sql.functions import col\n",
        "import pandas as pd"
      ]
    },
    {
      "cell_type": "code",
      "execution_count": 40,
      "metadata": {
        "id": "ERcUYsh7Jsog"
      },
      "outputs": [],
      "source": [
        "spark = SparkSession.builder.appName(\"Python Spark DataFrames basic example\").config(\"spark.some.config.option\", \"some-value\").getOrCreate()\n"
      ]
    },
    {
      "cell_type": "code",
      "source": [
        "df = pd.read_csv(r'./music_streaming.csv')\n",
        "df.head()\n",
        "\n",
        "# get some basic info about the data\n",
        "df.info()\n",
        "\n",
        "# 1. remove duplicates (Artist Name + Track Name)\n",
        "df = df.drop_duplicates(subset=['Track Name'])\n",
        "df.info()\n",
        "\n",
        "# 2. missing values in each column\n",
        "df.isnull().sum()\n",
        "\n",
        "df = df.dropna(subset=['Popularity'])\n",
        "df['Popularity'].isnull().sum()\n",
        "\n",
        "\n",
        "df = df.drop(columns=['key'])\n",
        "df.head()\n",
        "\n",
        "df['instrumentalness'] = df.groupby('Artist Name')['instrumentalness'].transform(lambda x: x.fillna(x.mean()))\n",
        "df['instrumentalness'].isnull().sum()\n",
        "\n",
        "# impute instrumentalness with the mean of the instrumentalness of all songs\n",
        "df['instrumentalness'] = df['instrumentalness'].fillna(df['instrumentalness'].mean())\n",
        "df['instrumentalness'].isnull().sum()\n",
        "\n",
        "# plot the boxplot of loudness\n",
        "import matplotlib.pyplot as plt\n",
        "import seaborn as sns\n",
        "sns.boxplot(x=df['loudness'])\n",
        "\n",
        "Q1 = df['loudness'].quantile(0.25)\n",
        "Q3 = df['loudness'].quantile(0.75)\n",
        "IQR = Q3 - Q1\n",
        "df = df[~((df['loudness'] < (Q1 - 1.5 * IQR)) |(df['loudness'] > (Q3 + 1.5 * IQR)))]\n",
        "sns.boxplot(x=df['loudness'])\n",
        "\n",
        "# plot histogram of (duration_in min/ms)\n",
        "df['duration_in min/ms'].hist(bins=100)\n",
        "\n",
        "df[df['duration_in min/ms'] < 1000]['duration_in min/ms'].sort_values(ascending=False)\n",
        "\n",
        "# maximum song length in minutes is 29.8 \n",
        "# `duration_in min/ms` > 1000 then divide the value by 60000 to convert it to minutes\n",
        "# we are sure that the all the values > 29.8 are in milliseconds\n",
        "\n",
        "df['duration_in min/ms'] = df['duration_in min/ms'].apply(lambda x: x/60000 if x > 1000 else x)"
      ],
      "metadata": {
        "colab": {
          "base_uri": "https://localhost:8080/",
          "height": 1000
        },
        "id": "69mLBk8DNMi_",
        "outputId": "40d719ed-e632-4f79-d2d0-3238c1323e75"
      },
      "execution_count": 41,
      "outputs": [
        {
          "output_type": "stream",
          "name": "stdout",
          "text": [
            "<class 'pandas.core.frame.DataFrame'>\n",
            "RangeIndex: 15517 entries, 0 to 15516\n",
            "Data columns (total 17 columns):\n",
            " #   Column              Non-Null Count  Dtype  \n",
            "---  ------              --------------  -----  \n",
            " 0   Artist Name         15517 non-null  object \n",
            " 1   Track Name          15517 non-null  object \n",
            " 2   Popularity          15123 non-null  float64\n",
            " 3   danceability        15517 non-null  float64\n",
            " 4   energy              15517 non-null  float64\n",
            " 5   key                 13774 non-null  float64\n",
            " 6   loudness            15517 non-null  float64\n",
            " 7   mode                15517 non-null  int64  \n",
            " 8   speechiness         15517 non-null  float64\n",
            " 9   acousticness        15517 non-null  float64\n",
            " 10  instrumentalness    11930 non-null  float64\n",
            " 11  liveness            15517 non-null  float64\n",
            " 12  valence             15517 non-null  float64\n",
            " 13  tempo               15517 non-null  float64\n",
            " 14  duration_in min/ms  15517 non-null  float64\n",
            " 15  time_signature      15517 non-null  int64  \n",
            " 16  Genre               15517 non-null  int64  \n",
            "dtypes: float64(12), int64(3), object(2)\n",
            "memory usage: 2.0+ MB\n",
            "<class 'pandas.core.frame.DataFrame'>\n",
            "Int64Index: 13021 entries, 0 to 15515\n",
            "Data columns (total 17 columns):\n",
            " #   Column              Non-Null Count  Dtype  \n",
            "---  ------              --------------  -----  \n",
            " 0   Artist Name         13021 non-null  object \n",
            " 1   Track Name          13021 non-null  object \n",
            " 2   Popularity          12688 non-null  float64\n",
            " 3   danceability        13021 non-null  float64\n",
            " 4   energy              13021 non-null  float64\n",
            " 5   key                 11555 non-null  float64\n",
            " 6   loudness            13021 non-null  float64\n",
            " 7   mode                13021 non-null  int64  \n",
            " 8   speechiness         13021 non-null  float64\n",
            " 9   acousticness        13021 non-null  float64\n",
            " 10  instrumentalness    9938 non-null   float64\n",
            " 11  liveness            13021 non-null  float64\n",
            " 12  valence             13021 non-null  float64\n",
            " 13  tempo               13021 non-null  float64\n",
            " 14  duration_in min/ms  13021 non-null  float64\n",
            " 15  time_signature      13021 non-null  int64  \n",
            " 16  Genre               13021 non-null  int64  \n",
            "dtypes: float64(12), int64(3), object(2)\n",
            "memory usage: 1.8+ MB\n"
          ]
        },
        {
          "output_type": "display_data",
          "data": {
            "text/plain": [
              "<Figure size 640x480 with 1 Axes>"
            ],
            "image/png": "[encoded data removed]"
          },
          "metadata": {}
        }
      ]
    },
    {
      "cell_type": "code",
      "source": [
        "sdf = spark.createDataFrame(df) \n",
        "sdf.printSchema()"
      ],
      "metadata": {
        "colab": {
          "base_uri": "https://localhost:8080/"
        },
        "id": "TWRsVv8iN6QB",
        "outputId": "f4bb7fd2-d724-4067-e9d2-359370bf57f7"
      },
      "execution_count": 42,
      "outputs": [
        {
          "output_type": "stream",
          "name": "stdout",
          "text": [
            "root\n",
            " |-- Artist Name: string (nullable = true)\n",
            " |-- Track Name: string (nullable = true)\n",
            " |-- Popularity: double (nullable = true)\n",
            " |-- danceability: double (nullable = true)\n",
            " |-- energy: double (nullable = true)\n",
            " |-- loudness: double (nullable = true)\n",
            " |-- mode: long (nullable = true)\n",
            " |-- speechiness: double (nullable = true)\n",
            " |-- acousticness: double (nullable = true)\n",
            " |-- instrumentalness: double (nullable = true)\n",
            " |-- liveness: double (nullable = true)\n",
            " |-- valence: double (nullable = true)\n",
            " |-- tempo: double (nullable = true)\n",
            " |-- duration_in min/ms: double (nullable = true)\n",
            " |-- time_signature: long (nullable = true)\n",
            " |-- Genre: long (nullable = true)\n",
            "\n"
          ]
        }
      ]
    },
    {
      "cell_type": "code",
      "execution_count": 43,
      "metadata": {
        "colab": {
          "base_uri": "https://localhost:8080/"
        },
        "id": "a6VymZLQJsoj",
        "outputId": "c373bd76-0342-4689-86fe-6b85ef753103"
      },
      "outputs": [
        {
          "output_type": "stream",
          "name": "stdout",
          "text": [
            "+--------------------+--------------------+----------+------------+------+--------+----+-----------+------------+--------------------+--------+-------+-------+------------------+--------------+-----+\n",
            "|         Artist Name|          Track Name|Popularity|danceability|energy|loudness|mode|speechiness|acousticness|    instrumentalness|liveness|valence|  tempo|duration_in min/ms|time_signature|Genre|\n",
            "+--------------------+--------------------+----------+------------+------+--------+----+-----------+------------+--------------------+--------+-------+-------+------------------+--------------+-----+\n",
            "|          Bruno Mars|That's What I Lik...|      60.0|       0.854| 0.564|  -4.964|   1|     0.0485|      0.0171| 0.16765870289458315|  0.0849|  0.899|134.071|3.9099333333333335|             4|    5|\n",
            "|              Boston|        Hitch a Ride|      54.0|       0.382| 0.814|   -7.23|   1|     0.0406|      0.0011|             0.00401|   0.101|  0.569|116.454|           4.19555|             4|   10|\n",
            "|       The Raincoats|  No Side to Fall In|      35.0|       0.434| 0.614|  -8.334|   1|     0.0525|       0.486|             1.96E-4|   0.394|  0.787|147.681|1.8277833333333333|             4|    6|\n",
            "|                Deno|Lingo (feat. J.I ...|      66.0|       0.853| 0.597|  -6.528|   0|     0.0555|      0.0212| 0.16765870289458315|   0.122|  0.569|107.033|2.8994666666666666|             4|    5|\n",
            "|Red Hot Chili Pep...|Nobody Weird Like...|      53.0|       0.167| 0.975|  -4.279|   1|      0.216|     1.69E-4|              0.0161|   0.172| 0.0918| 199.06| 3.832666666666667|             4|   10|\n",
            "|         The Stooges|Search and Destro...|      53.0|       0.235| 0.977|   0.878|   1|      0.107|     0.00353|             0.00604|   0.172|  0.241|152.952|3.4688833333333333|             4|    6|\n",
            "|        Randy Travis|   On the Other Hand|      55.0|       0.657| 0.415|  -9.915|   1|      0.025|       0.175|             5.65E-6|   0.132|  0.347|  96.03|       3.105783333|             4|    4|\n",
            "|Professional Murd...|                Slow|      29.0|       0.431| 0.776|  -5.403|   1|     0.0527|     2.21E-5|              0.0013|   0.179|  0.318|120.857|           3.96445|             4|    8|\n",
            "|       Mohammed Rafi|Meri Dosti Mera Pyar|      11.0|       0.491| 0.563|  -8.588|   0|     0.0331|       0.957|              0.0023|   0.263|  0.843| 95.558|           4.33045|             4|    3|\n",
            "|      Arctic Monkeys|The View From The...|      59.0|       0.387| 0.922|  -5.192|   0|     0.0674|     0.00487|0.004201216666666666|   0.187|  0.417|146.478|3.7157833333333334|             4|   10|\n",
            "|Harald Lassen, Br...|  How it feels pt. 2|      34.0|       0.462| 0.374| -12.069|   0|     0.0331|       0.949|               0.929|   0.131|  0.174|122.939|           4.44025|             3|    7|\n",
            "| Buffalo Springfield| For What It's Worth|      76.0|       0.653| 0.519| -10.164|   1|     0.0497|       0.406|              0.0209|   0.101|  0.822| 98.883|           2.56155|             4|   10|\n",
            "|        Elmore James|       Madison Blues|      37.0|       0.431| 0.852|  -6.522|   1|     0.0431|       0.564|               0.208|   0.254|  0.794| 67.601|2.4466666666666668|             4|    2|\n",
            "|  Velvet Two Stripes|              Drinks|      31.0|       0.564| 0.801|   -4.73|   0|     0.0473|     0.00233|              0.0078|   0.067|  0.401| 105.01|           2.57155|             4|   10|\n",
            "|              DaBaby|Baby Sitter (feat...|      70.0|       0.852|  0.73|  -5.803|   1|     0.0579|      0.0219| 0.16765870289458315|   0.336|  0.394| 92.506| 2.628216666666667|             4|    5|\n",
            "|           Mura Masa|Teenage Headache ...|      48.0|       0.347| 0.411|  -8.071|   1|     0.0414|      0.0181|               0.636|  0.0975|  0.395|171.991|4.7168833333333335|             4|    6|\n",
            "|Clairmont The Second|         intres-ting|      44.0|       0.796| 0.441|   -9.83|   1|      0.292|        0.16|             2.89E-5|   0.118|  0.371|158.105|2.2978666666666667|             4|    1|\n",
            "|           Krankhead|          Cut Throat|      29.0|       0.805| 0.448|  -9.452|   1|      0.112|      0.0602|             1.79E-6|   0.113|  0.775|160.018|               2.3|             4|    5|\n",
            "|               R3HAB| Whiplash - Acoustic|      44.0|       0.556| 0.188| -12.161|   1|     0.0316|       0.494| 0.16765870289458315|   0.119|  0.184|138.091|2.4202833333333333|             4|    9|\n",
            "|           MC Hammer|  U Can't Touch This|      73.0|       0.867| 0.517| -13.222|   0|     0.0875|     0.00456|             3.39E-4|  0.0864|  0.866|133.148| 4.289333333333333|             4|    9|\n",
            "+--------------------+--------------------+----------+------------+------+--------+----+-----------+------------+--------------------+--------+-------+-------+------------------+--------------+-----+\n",
            "only showing top 20 rows\n",
            "\n"
          ]
        }
      ],
      "source": [
        "# Display songs with duration greater than 5 minutes\n",
        "df_filtered = sdf.filter(col('duration_in min/ms') <= 5)\n",
        "df_filtered.show()"
      ]
    },
    {
      "cell_type": "code",
      "execution_count": 44,
      "metadata": {
        "colab": {
          "base_uri": "https://localhost:8080/"
        },
        "id": "DCGbuPxMJsoj",
        "outputId": "0cb2ee87-1465-4162-ffae-814cdb7520bc"
      },
      "outputs": [
        {
          "output_type": "stream",
          "name": "stdout",
          "text": [
            "+------------+--------------------+----------+------------+------+--------+----+-----------+------------+-------------------+--------+-------+-------+------------------+--------------+-----+\n",
            "| Artist Name|          Track Name|Popularity|danceability|energy|loudness|mode|speechiness|acousticness|   instrumentalness|liveness|valence|  tempo|duration_in min/ms|time_signature|Genre|\n",
            "+------------+--------------------+----------+------------+------+--------+----+-----------+------------+-------------------+--------+-------+-------+------------------+--------------+-----+\n",
            "|     J. Cole|p u n c h i n ‚Äò...|      81.0|       0.769|  0.74|  -6.579|   0|      0.378|       0.197|0.16765870289458315|   0.171|  0.692| 94.104|1.8763166666666666|             4|    5|\n",
            "|     J. Cole|p r i d e . i s ....|      85.0|       0.861| 0.656|  -7.867|   0|      0.425|       0.104|0.16765870289458315|  0.0986|  0.331| 88.967| 3.636833333333333|             4|    5|\n",
            "|     J. Cole|   i n t e r l u d e|      81.0|        0.77| 0.574|  -5.525|   1|      0.106|      0.0617|0.16765870289458315|   0.104|  0.104| 98.962| 2.217033333333333|             3|    5|\n",
            "|     J. Cole|m y . l i f e (wi...|      86.0|       0.597| 0.587|  -7.026|   0|      0.137|      0.0622|0.16765870289458315|   0.214| 0.0753|140.021|            3.6467|             4|    9|\n",
            "|   Novo Amor|            Birdcage|      54.0|       0.574| 0.407|  -8.321|   1|     0.0243|       0.902|              0.637|  0.0927|  0.223| 82.047|           3.37045|             4|    6|\n",
            "|     J. Cole|a p p l y i n g ....|      82.0|       0.699| 0.759|  -5.302|   1|      0.311|      0.0814|0.16765870289458315|   0.312|  0.404| 83.092| 2.955616666666667|             4|    5|\n",
            "|     J. Cole|           a m a r i|      86.0|       0.725| 0.713|  -6.173|   0|      0.187|       0.127|0.16765870289458315|   0.617|  0.207| 65.988|2.4736833333333332|             4|    9|\n",
            "|Anson Seabra|           Magazines|      46.0|       0.775| 0.424| -12.276|   1|     0.0675|       0.511|            1.94E-5|   0.123|  0.191| 114.95|            3.6675|             4|    9|\n",
            "|     J. Cole|     9 5 . s o u t h|      84.0|       0.713| 0.793|  -5.277|   1|      0.397|       0.271|0.16765870289458315|   0.727|  0.203| 71.724|3.2824333333333335|             4|    5|\n",
            "|Anson Seabra|It's Raining, It'...|      70.0|       0.598| 0.444|  -8.683|   0|     0.0327|        0.68|            1.94E-5|   0.142|  0.286|113.919|            3.0515|             4|    9|\n",
            "|     J. Cole|l e t . g o . m y...|      82.0|       0.583| 0.625|  -8.011|   1|      0.277|       0.506|0.16765870289458315|   0.196|  0.516| 89.812| 4.438183333333333|             4|    5|\n",
            "+------------+--------------------+----------+------------+------+--------+----+-----------+------------+-------------------+--------+-------+-------+------------------+--------------+-----+\n",
            "\n"
          ]
        }
      ],
      "source": [
        "# Display songs by J. Cole, Novo Amor, and Anson Seabra\n",
        "df_filtered.filter(col('Artist Name').isin('J. Cole', 'Novo Amor', 'Anson Seabra')).show()"
      ]
    },
    {
      "cell_type": "code",
      "execution_count": 45,
      "metadata": {
        "colab": {
          "base_uri": "https://localhost:8080/"
        },
        "id": "EV-nSL4nJsok",
        "outputId": "4d3572e0-b126-4967-f5b9-c5d0149281a3"
      },
      "outputs": [
        {
          "output_type": "stream",
          "name": "stdout",
          "text": [
            "+-----+-----+\n",
            "|Genre|count|\n",
            "+-----+-----+\n",
            "|    0|  369|\n",
            "|    7|  106|\n",
            "|    6| 1444|\n",
            "|    9| 1413|\n",
            "|    5| 1010|\n",
            "|    1|  686|\n",
            "|   10| 2896|\n",
            "|    3|  204|\n",
            "|    8| 1065|\n",
            "|    2|  822|\n",
            "|    4|  320|\n",
            "+-----+-----+\n",
            "\n"
          ]
        }
      ],
      "source": [
        "# Count the number of songs in each genre\n",
        "df_filtered.groupBy('Genre').count().show()"
      ]
    },
    {
      "cell_type": "code",
      "execution_count": 46,
      "metadata": {
        "colab": {
          "base_uri": "https://localhost:8080/"
        },
        "id": "nbzvlTEMJsok",
        "outputId": "c533b5b8-2d00-456d-fb1a-52547499720b"
      },
      "outputs": [
        {
          "output_type": "stream",
          "name": "stdout",
          "text": [
            "+--------------------+-----+\n",
            "|         Artist Name|count|\n",
            "+--------------------+-----+\n",
            "|     Backstreet Boys|   62|\n",
            "|      Britney Spears|   39|\n",
            "|  The Rolling Stones|   24|\n",
            "|            Westlife|   23|\n",
            "|                  U2|   21|\n",
            "|             Nirvana|   17|\n",
            "|       Fleetwood Mac|   17|\n",
            "|     Lata Mangeshkar|   17|\n",
            "|      The Black Keys|   15|\n",
            "|       Mohammed Rafi|   15|\n",
            "|       Kishore Kumar|   14|\n",
            "|               AC/DC|   14|\n",
            "|               Queen|   13|\n",
            "|            Coldplay|   12|\n",
            "|The Smashing Pump...|   12|\n",
            "|     Imagine Dragons|   12|\n",
            "|Red Hot Chili Pep...|   12|\n",
            "|         The Beatles|   12|\n",
            "|            Deftones|   11|\n",
            "|      Arctic Monkeys|   11|\n",
            "+--------------------+-----+\n",
            "only showing top 20 rows\n",
            "\n"
          ]
        }
      ],
      "source": [
        "# Count the number of songs for each artist\n",
        "df_filtered.groupBy('Artist Name').count().sort(col('count').desc()).show()"
      ]
    },
    {
      "cell_type": "code",
      "execution_count": 47,
      "metadata": {
        "colab": {
          "base_uri": "https://localhost:8080/"
        },
        "id": "Z4zWUxXQJsok",
        "outputId": "78b864bf-cb86-4790-d91c-991ad08a8d25"
      },
      "outputs": [
        {
          "output_type": "stream",
          "name": "stdout",
          "text": [
            "+--------------------+-----------------+\n",
            "|         Artist Name|  avg(Popularity)|\n",
            "+--------------------+-----------------+\n",
            "|            Måneskin|            100.0|\n",
            "|The Kid LAROI, Ju...|             97.0|\n",
            "|Justin Bieber, Da...|             95.0|\n",
            "|     Los Legendarios|             95.0|\n",
            "|          Nio Garcia|             93.0|\n",
            "|        Bella Poarch|             90.0|\n",
            "|          Tion Wayne|             90.0|\n",
            "|             Cardi B|             90.0|\n",
            "|    Dua Lipa, DaBaby|             90.0|\n",
            "|          The Weeknd|            89.25|\n",
            "|Galantis, David G...|             89.0|\n",
            "|  Majestic, Boney M.|             89.0|\n",
            "|                 SZA|             89.0|\n",
            "|        Nathan Evans|             89.0|\n",
            "|    Trinidad Cardona|             88.0|\n",
            "|     ATB, Topic, A7S|             88.0|\n",
            "|          Surf Curse|             88.0|\n",
            "|  Travis Scott, HVME|             88.0|\n",
            "|            Doja Cat|87.33333333333333|\n",
            "|            Ofenbach|             87.0|\n",
            "+--------------------+-----------------+\n",
            "only showing top 20 rows\n",
            "\n"
          ]
        }
      ],
      "source": [
        "# Mean popularity for each artist\n",
        "df_filtered.groupBy('Artist Name').avg('Popularity').sort(col('avg(Popularity)').desc()).show()"
      ]
    },
    {
      "cell_type": "code",
      "execution_count": 48,
      "metadata": {
        "colab": {
          "base_uri": "https://localhost:8080/"
        },
        "id": "oOf6OYtGJsok",
        "outputId": "31b89d4f-6937-4acc-f025-c879b00c4611"
      },
      "outputs": [
        {
          "output_type": "stream",
          "name": "stdout",
          "text": [
            "+--------------------+--------------------+----------+\n",
            "|          Track Name|         Artist Name|Popularity|\n",
            "+--------------------+--------------------+----------+\n",
            "|             Beggin'|            Måneskin|     100.0|\n",
            "|            good 4 u|      Olivia Rodrigo|      99.0|\n",
            "|Kiss Me More (fea...|            Doja Cat|      98.0|\n",
            "|STAY (with Justin...|The Kid LAROI, Ju...|      97.0|\n",
            "| Permission to Dance|                 BTS|      95.0|\n",
            "|                Fiel|     Los Legendarios|      95.0|\n",
            "|Peaches (feat. Da...|Justin Bieber, Da...|      95.0|\n",
            "|          Todo De Ti|      Rauw Alejandro|      95.0|\n",
            "|             deja vu|      Olivia Rodrigo|      95.0|\n",
            "|             traitor|      Olivia Rodrigo|      94.0|\n",
            "+--------------------+--------------------+----------+\n",
            "\n"
          ]
        }
      ],
      "source": [
        "# Top 10 songs based on popularity\n",
        "df_filtered.orderBy(col('Popularity').desc()).select('Track Name', 'Artist Name', 'Popularity').limit(10).show()"
      ]
    },
    {
      "cell_type": "code",
      "execution_count": 49,
      "metadata": {
        "colab": {
          "base_uri": "https://localhost:8080/"
        },
        "id": "pJUJP4FhJsok",
        "outputId": "800da377-d16a-437a-8d12-7d458f4f1a8b"
      },
      "outputs": [
        {
          "output_type": "stream",
          "name": "stdout",
          "text": [
            "+--------------------+---------------+------------+-------+--------+-------+\n",
            "|          Track Name|    Artist Name|danceability|  tempo|loudness|valence|\n",
            "+--------------------+---------------+------------+-------+--------+-------+\n",
            "|      Gucci Umbrella|Whookilledkenny|       0.989|120.004|   -7.02|  0.604|\n",
            "|           kawamurra|        sunflwr|        0.98|126.004|  -9.665|  0.285|\n",
            "|  Dancing in My Room|       347aidan|       0.979|119.971| -11.056|   0.74|\n",
            "|    OG Bobby Johnson|           QUE.|       0.974| 110.97|  -3.879|  0.513|\n",
            "|Ultra 45 - Origin...|          DJ Eq|       0.973|124.818|  -6.255|  0.656|\n",
            "+--------------------+---------------+------------+-------+--------+-------+\n",
            "\n"
          ]
        }
      ],
      "source": [
        "# Recommend songs for a party based on danceability, tempo, loudness, and valence\n",
        "df_filtered.orderBy(col('danceability').desc(), col('tempo').desc(), col('loudness').desc(), col('valence').desc()).select('Track Name', 'Artist Name', 'danceability', 'tempo', 'loudness', 'valence').limit(5).show()"
      ]
    }
  ],
  "metadata": {
    "kernelspec": {
      "display_name": "Python 3",
      "language": "python",
      "name": "python3"
    },
    "language_info": {
      "codemirror_mode": {
        "name": "ipython",
        "version": 3
      },
      "file_extension": ".py",
      "mimetype": "text/x-python",
      "name": "python",
      "nbconvert_exporter": "python",
      "pygments_lexer": "ipython3",
      "version": "3.11.2"
    },
    "orig_nbformat": 4,
    "colab": {
      "provenance": []
    }
  },
  "nbformat": 4,
  "nbformat_minor": 0
}