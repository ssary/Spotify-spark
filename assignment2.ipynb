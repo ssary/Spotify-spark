{
 "cells": [
  {
   "cell_type": "code",
   "execution_count": 1,
   "metadata": {},
   "outputs": [],
   "source": [
    "import findspark\n",
    "findspark.init()\n",
    "import pandas as pd\n",
    "from pyspark import SparkContext, SparkConf\n",
    "from pyspark.sql import SparkSession"
   ]
  },
  {
   "cell_type": "code",
   "execution_count": 2,
   "metadata": {},
   "outputs": [],
   "source": [
    "sc = SparkContext()\n",
    "spark = SparkSession.builder.appName(\"Python Spark DataFrames basic example\").config(\"spark.some.config.option\", \"some-value\").getOrCreate()"
   ]
  },
  {
   "cell_type": "code",
   "execution_count": 3,
   "metadata": {},
   "outputs": [
    {
     "data": {
      "text/html": [
       "\n",
       "            <div>\n",
       "                <p><b>SparkSession - in-memory</b></p>\n",
       "                \n",
       "        <div>\n",
       "            <p><b>SparkContext</b></p>\n",
       "\n",
       "            <p><a href=\"http://LAPTOP-SSQ6TECS:4040\">Spark UI</a></p>\n",
       "\n",
       "            <dl>\n",
       "              <dt>Version</dt>\n",
       "                <dd><code>v3.4.0</code></dd>\n",
       "              <dt>Master</dt>\n",
       "                <dd><code>local[*]</code></dd>\n",
       "              <dt>AppName</dt>\n",
       "                <dd><code>pyspark-shell</code></dd>\n",
       "            </dl>\n",
       "        </div>\n",
       "        \n",
       "            </div>\n",
       "        "
      ],
      "text/plain": [
       "<pyspark.sql.session.SparkSession at 0x2079c8059a0>"
      ]
     },
     "execution_count": 3,
     "metadata": {},
     "output_type": "execute_result"
    }
   ],
   "source": [
    "spark"
   ]
  },
  {
   "cell_type": "code",
   "execution_count": 4,
   "metadata": {},
   "outputs": [
    {
     "data": {
      "text/html": [
       "<div>\n",
       "<style scoped>\n",
       "    .dataframe tbody tr th:only-of-type {\n",
       "        vertical-align: middle;\n",
       "    }\n",
       "\n",
       "    .dataframe tbody tr th {\n",
       "        vertical-align: top;\n",
       "    }\n",
       "\n",
       "    .dataframe thead th {\n",
       "        text-align: right;\n",
       "    }\n",
       "</style>\n",
       "<table border=\"1\" class=\"dataframe\">\n",
       "  <thead>\n",
       "    <tr style=\"text-align: right;\">\n",
       "      <th></th>\n",
       "      <th>Artist Name</th>\n",
       "      <th>Track Name</th>\n",
       "      <th>Popularity</th>\n",
       "      <th>danceability</th>\n",
       "      <th>energy</th>\n",
       "      <th>key</th>\n",
       "      <th>loudness</th>\n",
       "      <th>mode</th>\n",
       "      <th>speechiness</th>\n",
       "      <th>acousticness</th>\n",
       "      <th>instrumentalness</th>\n",
       "      <th>liveness</th>\n",
       "      <th>valence</th>\n",
       "      <th>tempo</th>\n",
       "      <th>duration_in min/ms</th>\n",
       "      <th>time_signature</th>\n",
       "      <th>Genre</th>\n",
       "    </tr>\n",
       "  </thead>\n",
       "  <tbody>\n",
       "    <tr>\n",
       "      <th>0</th>\n",
       "      <td>Bruno Mars</td>\n",
       "      <td>That's What I Like (feat. Gucci Mane)</td>\n",
       "      <td>60.0</td>\n",
       "      <td>0.854</td>\n",
       "      <td>0.564</td>\n",
       "      <td>1.0</td>\n",
       "      <td>-4.964</td>\n",
       "      <td>1</td>\n",
       "      <td>0.0485</td>\n",
       "      <td>0.017100</td>\n",
       "      <td>NaN</td>\n",
       "      <td>0.0849</td>\n",
       "      <td>0.8990</td>\n",
       "      <td>134.071</td>\n",
       "      <td>234596.0</td>\n",
       "      <td>4</td>\n",
       "      <td>5</td>\n",
       "    </tr>\n",
       "    <tr>\n",
       "      <th>1</th>\n",
       "      <td>Boston</td>\n",
       "      <td>Hitch a Ride</td>\n",
       "      <td>54.0</td>\n",
       "      <td>0.382</td>\n",
       "      <td>0.814</td>\n",
       "      <td>3.0</td>\n",
       "      <td>-7.230</td>\n",
       "      <td>1</td>\n",
       "      <td>0.0406</td>\n",
       "      <td>0.001100</td>\n",
       "      <td>0.004010</td>\n",
       "      <td>0.1010</td>\n",
       "      <td>0.5690</td>\n",
       "      <td>116.454</td>\n",
       "      <td>251733.0</td>\n",
       "      <td>4</td>\n",
       "      <td>10</td>\n",
       "    </tr>\n",
       "    <tr>\n",
       "      <th>2</th>\n",
       "      <td>The Raincoats</td>\n",
       "      <td>No Side to Fall In</td>\n",
       "      <td>35.0</td>\n",
       "      <td>0.434</td>\n",
       "      <td>0.614</td>\n",
       "      <td>6.0</td>\n",
       "      <td>-8.334</td>\n",
       "      <td>1</td>\n",
       "      <td>0.0525</td>\n",
       "      <td>0.486000</td>\n",
       "      <td>0.000196</td>\n",
       "      <td>0.3940</td>\n",
       "      <td>0.7870</td>\n",
       "      <td>147.681</td>\n",
       "      <td>109667.0</td>\n",
       "      <td>4</td>\n",
       "      <td>6</td>\n",
       "    </tr>\n",
       "    <tr>\n",
       "      <th>3</th>\n",
       "      <td>Deno</td>\n",
       "      <td>Lingo (feat. J.I &amp; Chunkz)</td>\n",
       "      <td>66.0</td>\n",
       "      <td>0.853</td>\n",
       "      <td>0.597</td>\n",
       "      <td>10.0</td>\n",
       "      <td>-6.528</td>\n",
       "      <td>0</td>\n",
       "      <td>0.0555</td>\n",
       "      <td>0.021200</td>\n",
       "      <td>NaN</td>\n",
       "      <td>0.1220</td>\n",
       "      <td>0.5690</td>\n",
       "      <td>107.033</td>\n",
       "      <td>173968.0</td>\n",
       "      <td>4</td>\n",
       "      <td>5</td>\n",
       "    </tr>\n",
       "    <tr>\n",
       "      <th>4</th>\n",
       "      <td>Red Hot Chili Peppers</td>\n",
       "      <td>Nobody Weird Like Me - Remastered</td>\n",
       "      <td>53.0</td>\n",
       "      <td>0.167</td>\n",
       "      <td>0.975</td>\n",
       "      <td>2.0</td>\n",
       "      <td>-4.279</td>\n",
       "      <td>1</td>\n",
       "      <td>0.2160</td>\n",
       "      <td>0.000169</td>\n",
       "      <td>0.016100</td>\n",
       "      <td>0.1720</td>\n",
       "      <td>0.0918</td>\n",
       "      <td>199.060</td>\n",
       "      <td>229960.0</td>\n",
       "      <td>4</td>\n",
       "      <td>10</td>\n",
       "    </tr>\n",
       "  </tbody>\n",
       "</table>\n",
       "</div>"
      ],
      "text/plain": [
       "             Artist Name                             Track Name  Popularity  \\\n",
       "0             Bruno Mars  That's What I Like (feat. Gucci Mane)        60.0   \n",
       "1                 Boston                           Hitch a Ride        54.0   \n",
       "2          The Raincoats                     No Side to Fall In        35.0   \n",
       "3                   Deno             Lingo (feat. J.I & Chunkz)        66.0   \n",
       "4  Red Hot Chili Peppers      Nobody Weird Like Me - Remastered        53.0   \n",
       "\n",
       "   danceability  energy   key  loudness  mode  speechiness  acousticness  \\\n",
       "0         0.854   0.564   1.0    -4.964     1       0.0485      0.017100   \n",
       "1         0.382   0.814   3.0    -7.230     1       0.0406      0.001100   \n",
       "2         0.434   0.614   6.0    -8.334     1       0.0525      0.486000   \n",
       "3         0.853   0.597  10.0    -6.528     0       0.0555      0.021200   \n",
       "4         0.167   0.975   2.0    -4.279     1       0.2160      0.000169   \n",
       "\n",
       "   instrumentalness  liveness  valence    tempo  duration_in min/ms  \\\n",
       "0               NaN    0.0849   0.8990  134.071            234596.0   \n",
       "1          0.004010    0.1010   0.5690  116.454            251733.0   \n",
       "2          0.000196    0.3940   0.7870  147.681            109667.0   \n",
       "3               NaN    0.1220   0.5690  107.033            173968.0   \n",
       "4          0.016100    0.1720   0.0918  199.060            229960.0   \n",
       "\n",
       "   time_signature  Genre  \n",
       "0               4      5  \n",
       "1               4     10  \n",
       "2               4      6  \n",
       "3               4      5  \n",
       "4               4     10  "
      ]
     },
     "execution_count": 4,
     "metadata": {},
     "output_type": "execute_result"
    }
   ],
   "source": [
    "df = pd.read_csv(r'E:\\cms-downloader\\cms_downloads\\Spring 2023\\Big Data and NoSQL\\week 2023-5-11\\BD S23 A2\\music_streaming.csv')\n",
    "df.head()"
   ]
  },
  {
   "cell_type": "code",
   "execution_count": 5,
   "metadata": {},
   "outputs": [
    {
     "name": "stdout",
     "output_type": "stream",
     "text": [
      "<class 'pandas.core.frame.DataFrame'>\n",
      "RangeIndex: 15517 entries, 0 to 15516\n",
      "Data columns (total 17 columns):\n",
      " #   Column              Non-Null Count  Dtype  \n",
      "---  ------              --------------  -----  \n",
      " 0   Artist Name         15517 non-null  object \n",
      " 1   Track Name          15517 non-null  object \n",
      " 2   Popularity          15123 non-null  float64\n",
      " 3   danceability        15517 non-null  float64\n",
      " 4   energy              15517 non-null  float64\n",
      " 5   key                 13774 non-null  float64\n",
      " 6   loudness            15517 non-null  float64\n",
      " 7   mode                15517 non-null  int64  \n",
      " 8   speechiness         15517 non-null  float64\n",
      " 9   acousticness        15517 non-null  float64\n",
      " 10  instrumentalness    11930 non-null  float64\n",
      " 11  liveness            15517 non-null  float64\n",
      " 12  valence             15517 non-null  float64\n",
      " 13  tempo               15517 non-null  float64\n",
      " 14  duration_in min/ms  15517 non-null  float64\n",
      " 15  time_signature      15517 non-null  int64  \n",
      " 16  Genre               15517 non-null  int64  \n",
      "dtypes: float64(12), int64(3), object(2)\n",
      "memory usage: 2.0+ MB\n"
     ]
    }
   ],
   "source": [
    "# get some basic info about the data\n",
    "df.info()\n"
   ]
  },
  {
   "attachments": {},
   "cell_type": "markdown",
   "metadata": {},
   "source": [
    "Cleaning the data\n",
    "1. remove duplicated tracks\n",
    "2. check missing Values and handling them\n",
    "3. remove outliers\n",
    "4. Transformation"
   ]
  },
  {
   "attachments": {},
   "cell_type": "markdown",
   "metadata": {},
   "source": [
    "1. remove duplicates"
   ]
  },
  {
   "cell_type": "code",
   "execution_count": 6,
   "metadata": {},
   "outputs": [
    {
     "name": "stdout",
     "output_type": "stream",
     "text": [
      "<class 'pandas.core.frame.DataFrame'>\n",
      "Int64Index: 13021 entries, 0 to 15515\n",
      "Data columns (total 17 columns):\n",
      " #   Column              Non-Null Count  Dtype  \n",
      "---  ------              --------------  -----  \n",
      " 0   Artist Name         13021 non-null  object \n",
      " 1   Track Name          13021 non-null  object \n",
      " 2   Popularity          12688 non-null  float64\n",
      " 3   danceability        13021 non-null  float64\n",
      " 4   energy              13021 non-null  float64\n",
      " 5   key                 11555 non-null  float64\n",
      " 6   loudness            13021 non-null  float64\n",
      " 7   mode                13021 non-null  int64  \n",
      " 8   speechiness         13021 non-null  float64\n",
      " 9   acousticness        13021 non-null  float64\n",
      " 10  instrumentalness    9938 non-null   float64\n",
      " 11  liveness            13021 non-null  float64\n",
      " 12  valence             13021 non-null  float64\n",
      " 13  tempo               13021 non-null  float64\n",
      " 14  duration_in min/ms  13021 non-null  float64\n",
      " 15  time_signature      13021 non-null  int64  \n",
      " 16  Genre               13021 non-null  int64  \n",
      "dtypes: float64(12), int64(3), object(2)\n",
      "memory usage: 1.8+ MB\n"
     ]
    }
   ],
   "source": [
    "# 1. remove duplicates (Artist Name + Track Name)\n",
    "df = df.drop_duplicates(subset=['Track Name'])\n",
    "df.info()"
   ]
  },
  {
   "attachments": {},
   "cell_type": "markdown",
   "metadata": {},
   "source": [
    "Decreased the rows from 15517 rows to 13881 rows"
   ]
  },
  {
   "attachments": {},
   "cell_type": "markdown",
   "metadata": {},
   "source": [
    "2. Handle missing values"
   ]
  },
  {
   "cell_type": "code",
   "execution_count": 7,
   "metadata": {},
   "outputs": [
    {
     "data": {
      "text/plain": [
       "Artist Name              0\n",
       "Track Name               0\n",
       "Popularity             333\n",
       "danceability             0\n",
       "energy                   0\n",
       "key                   1466\n",
       "loudness                 0\n",
       "mode                     0\n",
       "speechiness              0\n",
       "acousticness             0\n",
       "instrumentalness      3083\n",
       "liveness                 0\n",
       "valence                  0\n",
       "tempo                    0\n",
       "duration_in min/ms       0\n",
       "time_signature           0\n",
       "Genre                    0\n",
       "dtype: int64"
      ]
     },
     "execution_count": 7,
     "metadata": {},
     "output_type": "execute_result"
    }
   ],
   "source": [
    "# 2. missing values in each column\n",
    "df.isnull().sum()"
   ]
  },
  {
   "attachments": {},
   "cell_type": "markdown",
   "metadata": {},
   "source": [
    "drop rows where Popularity is missing as there are 352 only missing"
   ]
  },
  {
   "cell_type": "code",
   "execution_count": 8,
   "metadata": {},
   "outputs": [
    {
     "data": {
      "text/plain": [
       "0"
      ]
     },
     "execution_count": 8,
     "metadata": {},
     "output_type": "execute_result"
    }
   ],
   "source": [
    "df = df.dropna(subset=['Popularity'])\n",
    "df['Popularity'].isnull().sum()"
   ]
  },
  {
   "attachments": {},
   "cell_type": "markdown",
   "metadata": {},
   "source": [
    "drop key column as it is not needed in our analysis"
   ]
  },
  {
   "cell_type": "code",
   "execution_count": 9,
   "metadata": {},
   "outputs": [
    {
     "data": {
      "text/html": [
       "<div>\n",
       "<style scoped>\n",
       "    .dataframe tbody tr th:only-of-type {\n",
       "        vertical-align: middle;\n",
       "    }\n",
       "\n",
       "    .dataframe tbody tr th {\n",
       "        vertical-align: top;\n",
       "    }\n",
       "\n",
       "    .dataframe thead th {\n",
       "        text-align: right;\n",
       "    }\n",
       "</style>\n",
       "<table border=\"1\" class=\"dataframe\">\n",
       "  <thead>\n",
       "    <tr style=\"text-align: right;\">\n",
       "      <th></th>\n",
       "      <th>Artist Name</th>\n",
       "      <th>Track Name</th>\n",
       "      <th>Popularity</th>\n",
       "      <th>danceability</th>\n",
       "      <th>energy</th>\n",
       "      <th>loudness</th>\n",
       "      <th>mode</th>\n",
       "      <th>speechiness</th>\n",
       "      <th>acousticness</th>\n",
       "      <th>instrumentalness</th>\n",
       "      <th>liveness</th>\n",
       "      <th>valence</th>\n",
       "      <th>tempo</th>\n",
       "      <th>duration_in min/ms</th>\n",
       "      <th>time_signature</th>\n",
       "      <th>Genre</th>\n",
       "    </tr>\n",
       "  </thead>\n",
       "  <tbody>\n",
       "    <tr>\n",
       "      <th>0</th>\n",
       "      <td>Bruno Mars</td>\n",
       "      <td>That's What I Like (feat. Gucci Mane)</td>\n",
       "      <td>60.0</td>\n",
       "      <td>0.854</td>\n",
       "      <td>0.564</td>\n",
       "      <td>-4.964</td>\n",
       "      <td>1</td>\n",
       "      <td>0.0485</td>\n",
       "      <td>0.017100</td>\n",
       "      <td>NaN</td>\n",
       "      <td>0.0849</td>\n",
       "      <td>0.8990</td>\n",
       "      <td>134.071</td>\n",
       "      <td>234596.0</td>\n",
       "      <td>4</td>\n",
       "      <td>5</td>\n",
       "    </tr>\n",
       "    <tr>\n",
       "      <th>1</th>\n",
       "      <td>Boston</td>\n",
       "      <td>Hitch a Ride</td>\n",
       "      <td>54.0</td>\n",
       "      <td>0.382</td>\n",
       "      <td>0.814</td>\n",
       "      <td>-7.230</td>\n",
       "      <td>1</td>\n",
       "      <td>0.0406</td>\n",
       "      <td>0.001100</td>\n",
       "      <td>0.004010</td>\n",
       "      <td>0.1010</td>\n",
       "      <td>0.5690</td>\n",
       "      <td>116.454</td>\n",
       "      <td>251733.0</td>\n",
       "      <td>4</td>\n",
       "      <td>10</td>\n",
       "    </tr>\n",
       "    <tr>\n",
       "      <th>2</th>\n",
       "      <td>The Raincoats</td>\n",
       "      <td>No Side to Fall In</td>\n",
       "      <td>35.0</td>\n",
       "      <td>0.434</td>\n",
       "      <td>0.614</td>\n",
       "      <td>-8.334</td>\n",
       "      <td>1</td>\n",
       "      <td>0.0525</td>\n",
       "      <td>0.486000</td>\n",
       "      <td>0.000196</td>\n",
       "      <td>0.3940</td>\n",
       "      <td>0.7870</td>\n",
       "      <td>147.681</td>\n",
       "      <td>109667.0</td>\n",
       "      <td>4</td>\n",
       "      <td>6</td>\n",
       "    </tr>\n",
       "    <tr>\n",
       "      <th>3</th>\n",
       "      <td>Deno</td>\n",
       "      <td>Lingo (feat. J.I &amp; Chunkz)</td>\n",
       "      <td>66.0</td>\n",
       "      <td>0.853</td>\n",
       "      <td>0.597</td>\n",
       "      <td>-6.528</td>\n",
       "      <td>0</td>\n",
       "      <td>0.0555</td>\n",
       "      <td>0.021200</td>\n",
       "      <td>NaN</td>\n",
       "      <td>0.1220</td>\n",
       "      <td>0.5690</td>\n",
       "      <td>107.033</td>\n",
       "      <td>173968.0</td>\n",
       "      <td>4</td>\n",
       "      <td>5</td>\n",
       "    </tr>\n",
       "    <tr>\n",
       "      <th>4</th>\n",
       "      <td>Red Hot Chili Peppers</td>\n",
       "      <td>Nobody Weird Like Me - Remastered</td>\n",
       "      <td>53.0</td>\n",
       "      <td>0.167</td>\n",
       "      <td>0.975</td>\n",
       "      <td>-4.279</td>\n",
       "      <td>1</td>\n",
       "      <td>0.2160</td>\n",
       "      <td>0.000169</td>\n",
       "      <td>0.016100</td>\n",
       "      <td>0.1720</td>\n",
       "      <td>0.0918</td>\n",
       "      <td>199.060</td>\n",
       "      <td>229960.0</td>\n",
       "      <td>4</td>\n",
       "      <td>10</td>\n",
       "    </tr>\n",
       "  </tbody>\n",
       "</table>\n",
       "</div>"
      ],
      "text/plain": [
       "             Artist Name                             Track Name  Popularity  \\\n",
       "0             Bruno Mars  That's What I Like (feat. Gucci Mane)        60.0   \n",
       "1                 Boston                           Hitch a Ride        54.0   \n",
       "2          The Raincoats                     No Side to Fall In        35.0   \n",
       "3                   Deno             Lingo (feat. J.I & Chunkz)        66.0   \n",
       "4  Red Hot Chili Peppers      Nobody Weird Like Me - Remastered        53.0   \n",
       "\n",
       "   danceability  energy  loudness  mode  speechiness  acousticness  \\\n",
       "0         0.854   0.564    -4.964     1       0.0485      0.017100   \n",
       "1         0.382   0.814    -7.230     1       0.0406      0.001100   \n",
       "2         0.434   0.614    -8.334     1       0.0525      0.486000   \n",
       "3         0.853   0.597    -6.528     0       0.0555      0.021200   \n",
       "4         0.167   0.975    -4.279     1       0.2160      0.000169   \n",
       "\n",
       "   instrumentalness  liveness  valence    tempo  duration_in min/ms  \\\n",
       "0               NaN    0.0849   0.8990  134.071            234596.0   \n",
       "1          0.004010    0.1010   0.5690  116.454            251733.0   \n",
       "2          0.000196    0.3940   0.7870  147.681            109667.0   \n",
       "3               NaN    0.1220   0.5690  107.033            173968.0   \n",
       "4          0.016100    0.1720   0.0918  199.060            229960.0   \n",
       "\n",
       "   time_signature  Genre  \n",
       "0               4      5  \n",
       "1               4     10  \n",
       "2               4      6  \n",
       "3               4      5  \n",
       "4               4     10  "
      ]
     },
     "execution_count": 9,
     "metadata": {},
     "output_type": "execute_result"
    }
   ],
   "source": [
    "\n",
    "df = df.drop(columns=['key'])\n",
    "df.head()"
   ]
  },
  {
   "attachments": {},
   "cell_type": "markdown",
   "metadata": {},
   "source": [
    "For each artist name, impute the missing values with the mean of the instrumentalness of this artist's other songs"
   ]
  },
  {
   "cell_type": "code",
   "execution_count": 10,
   "metadata": {},
   "outputs": [
    {
     "data": {
      "text/plain": [
       "1810"
      ]
     },
     "execution_count": 10,
     "metadata": {},
     "output_type": "execute_result"
    }
   ],
   "source": [
    "df['instrumentalness'] = df.groupby('Artist Name')['instrumentalness'].transform(lambda x: x.fillna(x.mean()))\n",
    "df['instrumentalness'].isnull().sum()"
   ]
  },
  {
   "attachments": {},
   "cell_type": "markdown",
   "metadata": {},
   "source": [
    "but some artists don't have other songs that have instrumentalness then impute them from the mean of the column instrumentalness"
   ]
  },
  {
   "cell_type": "code",
   "execution_count": 11,
   "metadata": {},
   "outputs": [
    {
     "data": {
      "text/plain": [
       "0"
      ]
     },
     "execution_count": 11,
     "metadata": {},
     "output_type": "execute_result"
    }
   ],
   "source": [
    "# impute instrumentalness with the mean of the instrumentalness of all songs\n",
    "df['instrumentalness'] = df['instrumentalness'].fillna(df['instrumentalness'].mean())\n",
    "df['instrumentalness'].isnull().sum()"
   ]
  },
  {
   "attachments": {},
   "cell_type": "markdown",
   "metadata": {},
   "source": [
    "3. Remove Outliers"
   ]
  },
  {
   "cell_type": "code",
   "execution_count": 12,
   "metadata": {},
   "outputs": [
    {
     "data": {
      "text/plain": [
       "<AxesSubplot: xlabel='loudness'>"
      ]
     },
     "execution_count": 12,
     "metadata": {},
     "output_type": "execute_result"
    },
    {
     "data": {
      "image/png": "[encoded data removed]",
      "text/plain": [
       "<Figure size 640x480 with 1 Axes>"
      ]
     },
     "metadata": {},
     "output_type": "display_data"
    }
   ],
   "source": [
    "# plot the boxplot of loudness\n",
    "import matplotlib.pyplot as plt\n",
    "import seaborn as sns\n",
    "sns.boxplot(x=df['loudness'])"
   ]
  },
  {
   "attachments": {},
   "cell_type": "markdown",
   "metadata": {},
   "source": [
    "remove outliers of loudness by using IQR"
   ]
  },
  {
   "cell_type": "code",
   "execution_count": 13,
   "metadata": {},
   "outputs": [
    {
     "data": {
      "text/plain": [
       "<AxesSubplot: xlabel='loudness'>"
      ]
     },
     "execution_count": 13,
     "metadata": {},
     "output_type": "execute_result"
    },
    {
     "data": {
      "image/png": "[encoded data removed]",
      "text/plain": [
       "<Figure size 640x480 with 1 Axes>"
      ]
     },
     "metadata": {},
     "output_type": "display_data"
    }
   ],
   "source": [
    "Q1 = df['loudness'].quantile(0.25)\n",
    "Q3 = df['loudness'].quantile(0.75)\n",
    "IQR = Q3 - Q1\n",
    "df = df[~((df['loudness'] < (Q1 - 1.5 * IQR)) |(df['loudness'] > (Q3 + 1.5 * IQR)))]\n",
    "sns.boxplot(x=df['loudness'])\n"
   ]
  },
  {
   "attachments": {},
   "cell_type": "markdown",
   "metadata": {},
   "source": [
    "4. Transform duration to minutes only"
   ]
  },
  {
   "attachments": {},
   "cell_type": "markdown",
   "metadata": {},
   "source": [
    "duration_in min/ms some of the rows are in minutes and some are milliseconds, change all to minutes"
   ]
  },
  {
   "cell_type": "code",
   "execution_count": 14,
   "metadata": {},
   "outputs": [
    {
     "data": {
      "text/plain": [
       "<AxesSubplot: >"
      ]
     },
     "execution_count": 14,
     "metadata": {},
     "output_type": "execute_result"
    },
    {
     "data": {
      "image/png": "[encoded data removed]",
      "text/plain": [
       "<Figure size 640x480 with 1 Axes>"
      ]
     },
     "metadata": {},
     "output_type": "display_data"
    }
   ],
   "source": [
    "# plot histogram of (duration_in min/ms)\n",
    "df['duration_in min/ms'].hist(bins=100)\n"
   ]
  },
  {
   "cell_type": "code",
   "execution_count": 15,
   "metadata": {},
   "outputs": [
    {
     "data": {
      "text/plain": [
       "13613    29.886000\n",
       "1108     29.450000\n",
       "13007    23.291550\n",
       "10473    16.743783\n",
       "1613     12.563333\n",
       "           ...    \n",
       "10716     1.027483\n",
       "11302     0.979333\n",
       "8830      0.969150\n",
       "1360      0.533917\n",
       "4184      0.501650\n",
       "Name: duration_in min/ms, Length: 1650, dtype: float64"
      ]
     },
     "execution_count": 15,
     "metadata": {},
     "output_type": "execute_result"
    }
   ],
   "source": [
    "df[df['duration_in min/ms'] < 1000]['duration_in min/ms'].sort_values(ascending=False)"
   ]
  },
  {
   "cell_type": "code",
   "execution_count": 16,
   "metadata": {},
   "outputs": [],
   "source": [
    "# maximum song length in minutes is 29.8 \n",
    "# `duration_in min/ms` > 1000 then divide the value by 60000 to convert it to minutes\n",
    "# we are sure that the all the values > 29.8 are in milliseconds\n",
    "\n",
    "df['duration_in min/ms'] = df['duration_in min/ms'].apply(lambda x: x/60000 if x > 1000 else x)"
   ]
  },
  {
   "cell_type": "code",
   "execution_count": 17,
   "metadata": {},
   "outputs": [
    {
     "name": "stdout",
     "output_type": "stream",
     "text": [
      "root\n",
      " |-- Artist Name: string (nullable = true)\n",
      " |-- Track Name: string (nullable = true)\n",
      " |-- Popularity: double (nullable = true)\n",
      " |-- danceability: double (nullable = true)\n",
      " |-- energy: double (nullable = true)\n",
      " |-- loudness: double (nullable = true)\n",
      " |-- mode: long (nullable = true)\n",
      " |-- speechiness: double (nullable = true)\n",
      " |-- acousticness: double (nullable = true)\n",
      " |-- instrumentalness: double (nullable = true)\n",
      " |-- liveness: double (nullable = true)\n",
      " |-- valence: double (nullable = true)\n",
      " |-- tempo: double (nullable = true)\n",
      " |-- duration_in min/ms: double (nullable = true)\n",
      " |-- time_signature: long (nullable = true)\n",
      " |-- Genre: long (nullable = true)\n",
      "\n"
     ]
    }
   ],
   "source": [
    "sdf = spark.createDataFrame(df) \n",
    "sdf.printSchema()"
   ]
  },
  {
   "attachments": {},
   "cell_type": "markdown",
   "metadata": {},
   "source": [
    "B. remove rows where duration_in min/ms is > 5 minutes spark sql"
   ]
  },
  {
   "cell_type": "code",
   "execution_count": 19,
   "metadata": {},
   "outputs": [
    {
     "name": "stdout",
     "output_type": "stream",
     "text": [
      "+--------------------+--------------------+----------+------------+------+--------+----+-----------+------------+--------------------+--------+-------+-------+------------------+--------------+-----+\n",
      "|         Artist Name|          Track Name|Popularity|danceability|energy|loudness|mode|speechiness|acousticness|    instrumentalness|liveness|valence|  tempo|duration_in min/ms|time_signature|Genre|\n",
      "+--------------------+--------------------+----------+------------+------+--------+----+-----------+------------+--------------------+--------+-------+-------+------------------+--------------+-----+\n",
      "|          Bruno Mars|That's What I Lik...|      60.0|       0.854| 0.564|  -4.964|   1|     0.0485|      0.0171| 0.16765870289458315|  0.0849|  0.899|134.071|          234596.0|             4|    5|\n",
      "|              Boston|        Hitch a Ride|      54.0|       0.382| 0.814|   -7.23|   1|     0.0406|      0.0011|             0.00401|   0.101|  0.569|116.454|          251733.0|             4|   10|\n",
      "|       The Raincoats|  No Side to Fall In|      35.0|       0.434| 0.614|  -8.334|   1|     0.0525|       0.486|             1.96E-4|   0.394|  0.787|147.681|          109667.0|             4|    6|\n",
      "|                Deno|Lingo (feat. J.I ...|      66.0|       0.853| 0.597|  -6.528|   0|     0.0555|      0.0212| 0.16765870289458315|   0.122|  0.569|107.033|          173968.0|             4|    5|\n",
      "|Red Hot Chili Pep...|Nobody Weird Like...|      53.0|       0.167| 0.975|  -4.279|   1|      0.216|     1.69E-4|              0.0161|   0.172| 0.0918| 199.06|          229960.0|             4|   10|\n",
      "|         The Stooges|Search and Destro...|      53.0|       0.235| 0.977|   0.878|   1|      0.107|     0.00353|             0.00604|   0.172|  0.241|152.952|          208133.0|             4|    6|\n",
      "|       Solomon Burke| None Of Us Are Free|      48.0|       0.674| 0.658|  -9.647|   0|      0.104|       0.404|             1.34E-6|  0.0981|  0.677|143.292|          329387.0|             4|    2|\n",
      "|Professional Murd...|                Slow|      29.0|       0.431| 0.776|  -5.403|   1|     0.0527|     2.21E-5|              0.0013|   0.179|  0.318|120.857|          237867.0|             4|    8|\n",
      "|      Arctic Monkeys|The View From The...|      59.0|       0.387| 0.922|  -5.192|   0|     0.0674|     0.00487|0.004201216666666666|   0.187|  0.417|146.478|          222947.0|             4|   10|\n",
      "| Buffalo Springfield| For What It's Worth|      76.0|       0.653| 0.519| -10.164|   1|     0.0497|       0.406|              0.0209|   0.101|  0.822| 98.883|          153693.0|             4|   10|\n",
      "|        Elmore James|       Madison Blues|      37.0|       0.431| 0.852|  -6.522|   1|     0.0431|       0.564|               0.208|   0.254|  0.794| 67.601|          146800.0|             4|    2|\n",
      "|  Velvet Two Stripes|              Drinks|      31.0|       0.564| 0.801|   -4.73|   0|     0.0473|     0.00233|              0.0078|   0.067|  0.401| 105.01|          154293.0|             4|   10|\n",
      "|              DaBaby|Baby Sitter (feat...|      70.0|       0.852|  0.73|  -5.803|   1|     0.0579|      0.0219| 0.16765870289458315|   0.336|  0.394| 92.506|          157693.0|             4|    5|\n",
      "|           Mura Masa|Teenage Headache ...|      48.0|       0.347| 0.411|  -8.071|   1|     0.0414|      0.0181|               0.636|  0.0975|  0.395|171.991|          283013.0|             4|    6|\n",
      "|Clairmont The Second|         intres-ting|      44.0|       0.796| 0.441|   -9.83|   1|      0.292|        0.16|             2.89E-5|   0.118|  0.371|158.105|          137872.0|             4|    1|\n",
      "|           Krankhead|          Cut Throat|      29.0|       0.805| 0.448|  -9.452|   1|      0.112|      0.0602|             1.79E-6|   0.113|  0.775|160.018|          138000.0|             4|    5|\n",
      "|     The Stone Roses|       Driving South|      44.0|       0.472| 0.947|  -6.128|   1|     0.0774|     9.43E-6|              0.0155|   0.364|   0.75| 98.784|          309867.0|             4|   10|\n",
      "|               R3HAB| Whiplash - Acoustic|      44.0|       0.556| 0.188| -12.161|   1|     0.0316|       0.494| 0.16765870289458315|   0.119|  0.184|138.091|          145217.0|             4|    9|\n",
      "|           MC Hammer|  U Can't Touch This|      73.0|       0.867| 0.517| -13.222|   0|     0.0875|     0.00456|             3.39E-4|  0.0864|  0.866|133.148|          257360.0|             4|    9|\n",
      "|            duendita|           Open Eyes|      35.0|       0.341|  0.47| -10.144|   1|      0.037|       0.226|               0.105|   0.518|  0.203|144.109|          204280.0|             4|    1|\n",
      "+--------------------+--------------------+----------+------------+------+--------+----+-----------+------------+--------------------+--------+-------+-------+------------------+--------------+-----+\n",
      "only showing top 20 rows\n",
      "\n"
     ]
    }
   ],
   "source": [
    "\n",
    "sdf.createOrReplaceTempView(\"music_streaming\")\n",
    "sdf = spark.sql(\"SELECT * FROM music_streaming WHERE `duration_in min/ms` > 5\")\n",
    "sdf.show()"
   ]
  },
  {
   "attachments": {},
   "cell_type": "markdown",
   "metadata": {},
   "source": [
    "C. Display songs where Artist Name is J. Cole or Novo Amor or Anson Seabra."
   ]
  },
  {
   "cell_type": "code",
   "execution_count": 20,
   "metadata": {},
   "outputs": [
    {
     "name": "stdout",
     "output_type": "stream",
     "text": [
      "+------------+--------------------+----------+------------+------+--------+----+-----------+------------+-------------------+--------+-------+-------+------------------+--------------+-----+\n",
      "| Artist Name|          Track Name|Popularity|danceability|energy|loudness|mode|speechiness|acousticness|   instrumentalness|liveness|valence|  tempo|duration_in min/ms|time_signature|Genre|\n",
      "+------------+--------------------+----------+------------+------+--------+----+-----------+------------+-------------------+--------+-------+-------+------------------+--------------+-----+\n",
      "|     J. Cole|p u n c h i n ‚Äò...|      81.0|       0.769|  0.74|  -6.579|   0|      0.378|       0.197|0.16765870289458315|   0.171|  0.692| 94.104|          112579.0|             4|    5|\n",
      "|     J. Cole|p r i d e . i s ....|      85.0|       0.861| 0.656|  -7.867|   0|      0.425|       0.104|0.16765870289458315|  0.0986|  0.331| 88.967|          218210.0|             4|    5|\n",
      "|     J. Cole|   i n t e r l u d e|      81.0|        0.77| 0.574|  -5.525|   1|      0.106|      0.0617|0.16765870289458315|   0.104|  0.104| 98.962|          133022.0|             3|    5|\n",
      "|     J. Cole|m y . l i f e (wi...|      86.0|       0.597| 0.587|  -7.026|   0|      0.137|      0.0622|0.16765870289458315|   0.214| 0.0753|140.021|          218802.0|             4|    9|\n",
      "|   Novo Amor|            Birdcage|      54.0|       0.574| 0.407|  -8.321|   1|     0.0243|       0.902|              0.637|  0.0927|  0.223| 82.047|          202227.0|             4|    6|\n",
      "|     J. Cole|a p p l y i n g ....|      82.0|       0.699| 0.759|  -5.302|   1|      0.311|      0.0814|0.16765870289458315|   0.312|  0.404| 83.092|          177337.0|             4|    5|\n",
      "|     J. Cole|           a m a r i|      86.0|       0.725| 0.713|  -6.173|   0|      0.187|       0.127|0.16765870289458315|   0.617|  0.207| 65.988|          148421.0|             4|    9|\n",
      "|Anson Seabra|           Magazines|      46.0|       0.775| 0.424| -12.276|   1|     0.0675|       0.511|            1.94E-5|   0.123|  0.191| 114.95|          220050.0|             4|    9|\n",
      "|     J. Cole|     9 5 . s o u t h|      84.0|       0.713| 0.793|  -5.277|   1|      0.397|       0.271|0.16765870289458315|   0.727|  0.203| 71.724|          196946.0|             4|    5|\n",
      "|Anson Seabra|It's Raining, It'...|      70.0|       0.598| 0.444|  -8.683|   0|     0.0327|        0.68|            1.94E-5|   0.142|  0.286|113.919|          183090.0|             4|    9|\n",
      "|     J. Cole|l e t . g o . m y...|      82.0|       0.583| 0.625|  -8.011|   1|      0.277|       0.506|0.16765870289458315|   0.196|  0.516| 89.812|          266291.0|             4|    5|\n",
      "+------------+--------------------+----------+------------+------+--------+----+-----------+------------+-------------------+--------+-------+-------+------------------+--------------+-----+\n",
      "\n"
     ]
    }
   ],
   "source": [
    "spark.sql(\"SELECT * FROM music_streaming WHERE `Artist Name` IN ('J. Cole', 'Novo Amor', 'Anson Seabra')\").show()\n"
   ]
  },
  {
   "attachments": {},
   "cell_type": "markdown",
   "metadata": {},
   "source": [
    "D. How many songs are included in every category?"
   ]
  },
  {
   "cell_type": "code",
   "execution_count": 21,
   "metadata": {},
   "outputs": [
    {
     "name": "stdout",
     "output_type": "stream",
     "text": [
      "+-----+-----+\n",
      "|Genre|count|\n",
      "+-----+-----+\n",
      "|    0|  444|\n",
      "|    7|  140|\n",
      "|    6| 1647|\n",
      "|    9| 1471|\n",
      "|    5| 1086|\n",
      "|    1|  772|\n",
      "|   10| 3410|\n",
      "|    3|  340|\n",
      "|    8| 1474|\n",
      "|    2| 1006|\n",
      "|    4|  327|\n",
      "+-----+-----+\n",
      "\n"
     ]
    }
   ],
   "source": [
    "spark.sql(\"SELECT Genre, COUNT(*) AS count FROM music_streaming GROUP BY Genre\").show()"
   ]
  },
  {
   "attachments": {},
   "cell_type": "markdown",
   "metadata": {},
   "source": [
    "E. Which artists dominated the charts?"
   ]
  },
  {
   "cell_type": "code",
   "execution_count": 22,
   "metadata": {},
   "outputs": [
    {
     "name": "stdout",
     "output_type": "stream",
     "text": [
      "+--------------------+-----+\n",
      "|         Artist Name|count|\n",
      "+--------------------+-----+\n",
      "|     Backstreet Boys|   62|\n",
      "|      Britney Spears|   40|\n",
      "|  The Rolling Stones|   28|\n",
      "|                  U2|   26|\n",
      "|           Metallica|   24|\n",
      "|     Lata Mangeshkar|   23|\n",
      "|            Westlife|   23|\n",
      "|       Mohammed Rafi|   21|\n",
      "|       Kishore Kumar|   18|\n",
      "|             Nirvana|   18|\n",
      "|               AC/DC|   18|\n",
      "|        Led Zeppelin|   17|\n",
      "|       Fleetwood Mac|   17|\n",
      "|           Pearl Jam|   17|\n",
      "|      The Black Keys|   16|\n",
      "|            Coldplay|   15|\n",
      "|Red Hot Chili Pep...|   15|\n",
      "|              Mukesh|   15|\n",
      "|               Queen|   14|\n",
      "|     Imagine Dragons|   13|\n",
      "+--------------------+-----+\n",
      "only showing top 20 rows\n",
      "\n"
     ]
    }
   ],
   "source": [
    "# count the number of songs for each artist\n",
    "spark.sql(\"SELECT `Artist Name`, COUNT(*) AS count FROM music_streaming GROUP BY `Artist Name`\").sort('count', ascending=False).show()"
   ]
  },
  {
   "cell_type": "code",
   "execution_count": 23,
   "metadata": {},
   "outputs": [
    {
     "name": "stdout",
     "output_type": "stream",
     "text": [
      "+--------------------+-----------------+\n",
      "|         Artist Name|  mean_popularity|\n",
      "+--------------------+-----------------+\n",
      "|            Måneskin|            100.0|\n",
      "|The Kid LAROI, Ju...|             97.0|\n",
      "|Justin Bieber, Da...|             95.0|\n",
      "|     Los Legendarios|             95.0|\n",
      "|          Nio Garcia|             93.0|\n",
      "|          Tion Wayne|             90.0|\n",
      "|        Bella Poarch|             90.0|\n",
      "|             Cardi B|             90.0|\n",
      "|    Dua Lipa, DaBaby|             90.0|\n",
      "|          The Weeknd|            89.25|\n",
      "|  Majestic, Boney M.|             89.0|\n",
      "|Galantis, David G...|             89.0|\n",
      "|                 SZA|             89.0|\n",
      "|        Nathan Evans|             89.0|\n",
      "|     ATB, Topic, A7S|             88.0|\n",
      "|    Trinidad Cardona|             88.0|\n",
      "|  Travis Scott, HVME|             88.0|\n",
      "|          Surf Curse|             88.0|\n",
      "|            Doja Cat|87.33333333333333|\n",
      "|            Ofenbach|             87.0|\n",
      "+--------------------+-----------------+\n",
      "only showing top 20 rows\n",
      "\n"
     ]
    }
   ],
   "source": [
    "# Mean of the popularity for each artist, tells us how the songs of each artist are popular\n",
    "spark.sql(\"SELECT `Artist Name`, AVG(Popularity) AS mean_popularity FROM music_streaming GROUP BY `Artist Name`\").sort('mean_popularity', ascending=False).show()"
   ]
  },
  {
   "attachments": {},
   "cell_type": "markdown",
   "metadata": {},
   "source": [
    "F. What songs would be considered for the “Billboard Top 10 Songs of the Year”?\n",
    "(mention their artists as well)"
   ]
  },
  {
   "cell_type": "code",
   "execution_count": 24,
   "metadata": {},
   "outputs": [
    {
     "name": "stdout",
     "output_type": "stream",
     "text": [
      "+--------------------+--------------------+----------+\n",
      "|          Track Name|         Artist Name|Popularity|\n",
      "+--------------------+--------------------+----------+\n",
      "|             Beggin'|            Måneskin|     100.0|\n",
      "|            good 4 u|      Olivia Rodrigo|      99.0|\n",
      "|Kiss Me More (fea...|            Doja Cat|      98.0|\n",
      "|STAY (with Justin...|The Kid LAROI, Ju...|      97.0|\n",
      "| Permission to Dance|                 BTS|      95.0|\n",
      "|Peaches (feat. Da...|Justin Bieber, Da...|      95.0|\n",
      "|                Fiel|     Los Legendarios|      95.0|\n",
      "|             deja vu|      Olivia Rodrigo|      95.0|\n",
      "|          Todo De Ti|      Rauw Alejandro|      95.0|\n",
      "|             traitor|      Olivia Rodrigo|      94.0|\n",
      "+--------------------+--------------------+----------+\n",
      "\n"
     ]
    }
   ],
   "source": [
    "# Top 10 songs based on popularity\n",
    "spark.sql(\"SELECT `Track Name`, `Artist Name`, Popularity FROM music_streaming ORDER BY Popularity DESC LIMIT 10\").show()\n",
    "\n"
   ]
  },
  {
   "attachments": {},
   "cell_type": "markdown",
   "metadata": {},
   "source": [
    "G. Recommend at least 5 songs that can be played at a party"
   ]
  },
  {
   "cell_type": "code",
   "execution_count": 25,
   "metadata": {},
   "outputs": [
    {
     "name": "stdout",
     "output_type": "stream",
     "text": [
      "+--------------------+---------------+------------+-------+--------+-------+\n",
      "|          Track Name|    Artist Name|danceability|  tempo|loudness|valence|\n",
      "+--------------------+---------------+------------+-------+--------+-------+\n",
      "|      Gucci Umbrella|Whookilledkenny|       0.989|120.004|   -7.02|  0.604|\n",
      "|Divine Gosa - Swi...|      Radioclit|       0.982|131.023|  -4.956|  0.866|\n",
      "|           kawamurra|        sunflwr|        0.98|126.004|  -9.665|  0.285|\n",
      "|  Dancing in My Room|       347aidan|       0.979|119.971| -11.056|   0.74|\n",
      "|    OG Bobby Johnson|           QUE.|       0.974| 110.97|  -3.879|  0.513|\n",
      "+--------------------+---------------+------------+-------+--------+-------+\n",
      "\n"
     ]
    }
   ],
   "source": [
    "# songs with high danceability: Describes how suitable a track is for dancing \n",
    "# high tempo: is the speed or pace of a given piece\n",
    "# high loudness\n",
    "# high valence: Tracks with high valence sound more positive \n",
    "spark.sql(\"SELECT `Track Name`, `Artist Name`, danceability, tempo, loudness, valence FROM music_streaming ORDER BY danceability DESC, tempo DESC, loudness DESC, valence DESC LIMIT 5\").show()"
   ]
  }
 ],
 "metadata": {
  "kernelspec": {
   "display_name": "Python 3",
   "language": "python",
   "name": "python3"
  },
  "language_info": {
   "codemirror_mode": {
    "name": "ipython",
    "version": 3
   },
   "file_extension": ".py",
   "mimetype": "text/x-python",
   "name": "python",
   "nbconvert_exporter": "python",
   "pygments_lexer": "ipython3",
   "version": "3.9.4"
  },
  "orig_nbformat": 4
 },
 "nbformat": 4,
 "nbformat_minor": 2
}
